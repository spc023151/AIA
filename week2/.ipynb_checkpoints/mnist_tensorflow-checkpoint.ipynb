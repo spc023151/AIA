{
 "cells": [
  {
   "cell_type": "markdown",
   "metadata": {},
   "source": [
    "# Step.1 匯入模組"
   ]
  },
  {
   "cell_type": "code",
   "execution_count": 557,
   "metadata": {},
   "outputs": [],
   "source": [
    "import tensorflow as tf\n",
    "import warnings\n",
    "warnings.filterwarnings(\"ignore\")"
   ]
  },
  {
   "cell_type": "markdown",
   "metadata": {},
   "source": [
    "# Step.2 匯入資料\n",
    "## 使用tensorflow 內建程式碼讀取MNIST\n",
    "\n",
    "mnist.train：訓練用資料 55,000 筆。"
   ]
  },
  {
   "cell_type": "markdown",
   "metadata": {},
   "source": [
    "mnist.validation：驗證用資料 5,000 筆。"
   ]
  },
  {
   "cell_type": "markdown",
   "metadata": {},
   "source": [
    "mnist.test：測試用資料 10,000 筆。"
   ]
  },
  {
   "cell_type": "code",
   "execution_count": 558,
   "metadata": {},
   "outputs": [
    {
     "name": "stdout",
     "output_type": "stream",
     "text": [
      "Extracting MNIST_data/train-images-idx3-ubyte.gz\n",
      "Extracting MNIST_data/train-labels-idx1-ubyte.gz\n",
      "Extracting MNIST_data/t10k-images-idx3-ubyte.gz\n",
      "Extracting MNIST_data/t10k-labels-idx1-ubyte.gz\n"
     ]
    }
   ],
   "source": [
    "from tensorflow.examples.tutorials.mnist import input_data\n",
    "mnist = input_data.read_data_sets(\"MNIST_data/\", one_hot=True)"
   ]
  },
  {
   "cell_type": "markdown",
   "metadata": {},
   "source": [
    "# Step.3 查看MNIST\n",
    "## print shape\n",
    "mnist是一張 28x28的手寫數字圖片，可以看到印出來的shape是(55000, 784)。"
   ]
  },
  {
   "cell_type": "markdown",
   "metadata": {},
   "source": [
    "代表有55000張手寫數字圖像，784(28*28=784)為圖片展開後的一維向量。"
   ]
  },
  {
   "cell_type": "markdown",
   "metadata": {},
   "source": [
    "label則是已經做好one-hot encoding，所以數字0-9總共有10個。"
   ]
  },
  {
   "cell_type": "markdown",
   "metadata": {},
   "source": [
    "(此內建MNIST資料集已標準化)"
   ]
  },
  {
   "cell_type": "code",
   "execution_count": 559,
   "metadata": {},
   "outputs": [
    {
     "name": "stdout",
     "output_type": "stream",
     "text": [
      "mnist training set shape: (55000, 784)\n",
      "mnist training label shape: (55000, 10)\n",
      "mnist testung set shape: (10000, 784)\n",
      "mnist testing label shape: (10000, 10)\n"
     ]
    }
   ],
   "source": [
    "print(\"mnist training set shape:\", mnist.train.images.shape)\n",
    "print(\"mnist training label shape:\", mnist.train.labels.shape)\n",
    "print(\"mnist testung set shape:\", mnist.test.images.shape)\n",
    "print(\"mnist testing label shape:\", mnist.test.labels.shape)"
   ]
  },
  {
   "cell_type": "markdown",
   "metadata": {},
   "source": [
    "# 顯示圖片"
   ]
  },
  {
   "cell_type": "markdown",
   "metadata": {},
   "source": [
    "圖片傳入模型時會將所有維度展開成一維，mnist.train.images已經展開好。"
   ]
  },
  {
   "cell_type": "markdown",
   "metadata": {},
   "source": [
    "所以要顯示圖片需要重新reshape成28x28。"
   ]
  },
  {
   "cell_type": "code",
   "execution_count": 560,
   "metadata": {},
   "outputs": [
    {
     "data": {
      "image/png": "[encoded data removed]",
      "text/plain": [
       "<Figure size 144x144 with 1 Axes>"
      ]
     },
     "metadata": {},
     "output_type": "display_data"
    }
   ],
   "source": [
    "import matplotlib.pyplot as plt\n",
    "\n",
    "def plot_image(image):\n",
    "    fig = plt.gcf()\n",
    "    fig.set_size_inches(2, 2)\n",
    "    plt.imshow(image, cmap='binary')\n",
    "    plt.show()\n",
    "    \n",
    "plot_image(mnist.train.images[1].reshape(28, 28))"
   ]
  },
  {
   "cell_type": "markdown",
   "metadata": {},
   "source": [
    "# One-hot encoding\n",
    "0-9總共10個數字對應到label就有10個向量，10個向量中只有一個為1其他都是0。"
   ]
  },
  {
   "cell_type": "markdown",
   "metadata": {},
   "source": [
    "標籤為[0 0 0 1 0 0 0 0 0 0]，在3的位置為1代表手寫數字就是3。"
   ]
  },
  {
   "cell_type": "code",
   "execution_count": 561,
   "metadata": {},
   "outputs": [
    {
     "data": {
      "image/png": "[encoded data removed]",
      "text/plain": [
       "<Figure size 144x144 with 1 Axes>"
      ]
     },
     "metadata": {},
     "output_type": "display_data"
    },
    {
     "name": "stdout",
     "output_type": "stream",
     "text": [
      "[0. 0. 0. 0. 0. 0. 0. 1. 0. 0.]\n"
     ]
    },
    {
     "data": {
      "image/png": "[encoded data removed]",
      "text/plain": [
       "<Figure size 144x144 with 1 Axes>"
      ]
     },
     "metadata": {},
     "output_type": "display_data"
    },
    {
     "name": "stdout",
     "output_type": "stream",
     "text": [
      "[0. 0. 0. 1. 0. 0. 0. 0. 0. 0.]\n"
     ]
    }
   ],
   "source": [
    "# 第一張圖雖然很像3但是label的標籤是7\n",
    "plot_image(mnist.train.images[0].reshape(28,28))\n",
    "print(mnist.train.labels[0])\n",
    "\n",
    "# 真正標籤為3的圖片\n",
    "plot_image(mnist.train.images[1].reshape(28,28))\n",
    "print(mnist.train.labels[1])"
   ]
  },
  {
   "cell_type": "markdown",
   "metadata": {},
   "source": [
    "# 建立模型"
   ]
  },
  {
   "cell_type": "markdown",
   "metadata": {},
   "source": [
    "tensorflow就像是在進行水管施工，要先找到一塊地然後把水管一條一條接上。"
   ]
  },
  {
   "cell_type": "markdown",
   "metadata": {},
   "source": [
    "而水就是訓練資料在TensorFlow中叫做tensor，水管全部接上後開水，資料就會像水一樣從接好的水管流向終點，也就是tensor flow。"
   ]
  },
  {
   "cell_type": "markdown",
   "metadata": {},
   "source": [
    "所有參數就像水流一樣沒有打開水龍頭就不會有數值，所以每個參數都要被激活才會有數值。"
   ]
  },
  {
   "cell_type": "markdown",
   "metadata": {},
   "source": [
    "## Step.1 資料流來源"
   ]
  },
  {
   "cell_type": "code",
   "execution_count": 562,
   "metadata": {},
   "outputs": [],
   "source": [
    "# tensorflow已經預設一塊圖可以直接開始建置資料流\n",
    "\n",
    "# 定義水的來源，也就是資料要從哪裡來\n",
    "with tf.name_scope('Inputs'):\n",
    "    xs = tf.placeholder(tf.float32, [None, 784], name = 'Input_Data')\n",
    "with tf.name_scope('Labels'):\n",
    "    ys = tf.placeholder(tf.float32, [None, 10], name = 'Label_Data')"
   ]
  },
  {
   "cell_type": "markdown",
   "metadata": {},
   "source": [
    "## Step.2 隱藏層"
   ]
  },
  {
   "cell_type": "markdown",
   "metadata": {},
   "source": [
    "這裡僅用一層784個neuron的hidden layer，output即為10個分類，再用softmax把機率最高的找出來。"
   ]
  },
  {
   "cell_type": "code",
   "execution_count": 563,
   "metadata": {},
   "outputs": [],
   "source": [
    "# 定義一個function為資料流建置水管 inputs就是輸入資料 in_size為輸入資料大小 out_size為輸出資料大小\n",
    "def add_layer(inputs, in_size, out_size):\n",
    "\n",
    "    # 定義weights\n",
    "    with tf.name_scope('weight'):\n",
    "        weights = tf.Variable(tf.zeros([in_size, out_size]),name='W')\n",
    "        tf.summary.histogram(layer_name + 'weights', weights)\n",
    "    # 定義 bias\n",
    "    with tf.name_scope('bias'):\n",
    "        biases = tf.Variable(tf.zeros([1, out_size]),name='b')\n",
    "        tf.summary.histogram(layer_name + '/biases', biases)\n",
    "\n",
    "    # 定義資料進來後做的運算\n",
    "    with tf.name_scope('Wx_plus_b'):\n",
    "        logits = tf.nn.sigmoid(tf.add(tf.matmul(inputs, weights) , biases))\n",
    "    \n",
    "    return logits\n",
    "\n",
    "def add_fc_layer(inputs, in_size, out_size):\n",
    "\n",
    "    # 定義weights\n",
    "    with tf.name_scope('weight'):\n",
    "        weights = tf.Variable(tf.zeros([in_size, out_size]),name='W')\n",
    "        tf.summary.histogram(layer_name + 'weights', weights)\n",
    "    # 定義 bias\n",
    "    with tf.name_scope('bias'):\n",
    "        biases = tf.Variable(tf.zeros([1, out_size]),name='b')\n",
    "        tf.summary.histogram(layer_name + '/biases', biases)\n",
    "\n",
    "    # 定義資料進來後做的運算\n",
    "    with tf.name_scope('Wx_plus_b'):\n",
    "        logits = tf.nn.softmax(tf.add(tf.matmul(inputs, weights) , biases))\n",
    "    \n",
    "    return logits\n",
    "\n",
    "# 1st hidden layer 資料從xs這個管道傳進來\n",
    "l1 = add_layer(xs, 784, 10)\n",
    "\n",
    "train_prediction = l1"
   ]
  },
  {
   "cell_type": "markdown",
   "metadata": {},
   "source": [
    "## Step.3 loss"
   ]
  },
  {
   "cell_type": "markdown",
   "metadata": {},
   "source": [
    "分類問題使用softmax配上cross_entropy會有最好的結果。"
   ]
  },
  {
   "cell_type": "code",
   "execution_count": 564,
   "metadata": {},
   "outputs": [],
   "source": [
    "# 定義loss function\n",
    "with tf.name_scope('loss'):\n",
    "    loss = tf.reduce_mean(tf.nn.softmax_cross_entropy_with_logits(labels=ys, logits=train_prediction))\n",
    "    tf.summary.scalar('loss', loss)\n",
    "        \n",
    "# 定義使用的Optimizer\n",
    "optimizer = tf.train.AdamOptimizer(0.1).minimize(loss)"
   ]
  },
  {
   "cell_type": "markdown",
   "metadata": {},
   "source": [
    "## Step.4 accuracy"
   ]
  },
  {
   "cell_type": "code",
   "execution_count": 565,
   "metadata": {},
   "outputs": [],
   "source": [
    "# 將label和prediction一個一個做比對，一樣就翻回True否則False。\n",
    "correct_pred = tf.equal(tf.argmax(train_prediction, 1), tf.argmax(ys, 1))\n",
    "\n",
    "# 再把所有True平均就是正確率\n",
    "accuracy = tf.reduce_mean(tf.cast(correct_pred, tf.float32))"
   ]
  },
  {
   "cell_type": "markdown",
   "metadata": {},
   "source": [
    "# 訓練模型 "
   ]
  },
  {
   "cell_type": "markdown",
   "metadata": {},
   "source": [
    "## Mini batch"
   ]
  },
  {
   "cell_type": "markdown",
   "metadata": {},
   "source": [
    "將一整筆資料分為一小塊一小塊丟進模型訓練有助於利用GPU加速運算和加大收斂步伐。"
   ]
  },
  {
   "cell_type": "code",
   "execution_count": 566,
   "metadata": {},
   "outputs": [],
   "source": [
    "# 訓練資料總共有55000，我們將100張圖片一次丟進去更新一次參數\n",
    "batch_size = 100"
   ]
  },
  {
   "cell_type": "markdown",
   "metadata": {},
   "source": [
    "## Epoch"
   ]
  },
  {
   "cell_type": "markdown",
   "metadata": {},
   "source": [
    "所有資料丟進模型訓練一次為一個epoch。"
   ]
  },
  {
   "cell_type": "code",
   "execution_count": 567,
   "metadata": {},
   "outputs": [],
   "source": [
    "# 這裡設定epoch為10，代表55000筆資料總共將訓練10次\n",
    "epoch_number = 10"
   ]
  },
  {
   "cell_type": "markdown",
   "metadata": {},
   "source": [
    "## Step.1 設定初始化所有參數"
   ]
  },
  {
   "cell_type": "code",
   "execution_count": 568,
   "metadata": {},
   "outputs": [],
   "source": [
    "init = tf.global_variables_initializer()"
   ]
  },
  {
   "cell_type": "markdown",
   "metadata": {},
   "source": [
    "( 到這裡都只是建置資料流的方向，完全沒有任何資料被傳遞 )"
   ]
  },
  {
   "cell_type": "markdown",
   "metadata": {},
   "source": [
    "## Step.2 啟動資料流"
   ]
  },
  {
   "cell_type": "code",
   "execution_count": 569,
   "metadata": {},
   "outputs": [
    {
     "name": "stdout",
     "output_type": "stream",
     "text": [
      "Epoch 1,  Loss= 1.6050, Training Accuracy= 0.870\n",
      "Epoch 2,  Loss= 1.5715, Training Accuracy= 0.890\n",
      "Epoch 3,  Loss= 1.5594, Training Accuracy= 0.940\n",
      "Epoch 4,  Loss= 1.5798, Training Accuracy= 0.860\n",
      "Epoch 5,  Loss= 1.5565, Training Accuracy= 0.890\n",
      "Epoch 6,  Loss= 1.5539, Training Accuracy= 0.890\n",
      "Epoch 7,  Loss= 1.5738, Training Accuracy= 0.890\n",
      "Epoch 8,  Loss= 1.5699, Training Accuracy= 0.870\n",
      "Epoch 9,  Loss= 1.5478, Training Accuracy= 0.920\n",
      "Epoch 10,  Loss= 1.5295, Training Accuracy= 0.890\n",
      "test_acc:  [0.8962]\n"
     ]
    }
   ],
   "source": [
    "# 這裡就像打開水龍頭，讓水流向前面建置好的水管\n",
    "\n",
    "with tf.Session() as sess:\n",
    "    \n",
    "    # 初始化所有參數\n",
    "    sess.run(init)\n",
    "    \n",
    "    # epoch 次數\n",
    "    for epoch in range(epoch_number):\n",
    "        \n",
    "        # 每一個batch更新一次參數\n",
    "        for step in range(550):\n",
    "            batch_xs, batch_ys = mnist.train.next_batch(batch_size)\n",
    "            \n",
    "            # 激活optimizer，讓他前面全部接好的水管做動後，optimizer更新參數\n",
    "            sess.run([optimizer], feed_dict={xs: batch_xs, ys: batch_ys})\n",
    "            \n",
    "        # 計算loss和正確率\n",
    "        loss_, acc = sess.run([loss, accuracy], feed_dict={xs: batch_xs, ys: batch_ys})\n",
    "        print(\"Epoch \" + str(epoch+1) + \",  Loss= \" + \\\n",
    "                \"{:.4f}\".format(loss_) + \", Training Accuracy= \" + \\\n",
    "                \"{:.3f}\".format(acc))\n",
    "        \n",
    "    test_prediction = sess.run([train_prediction], feed_dict={xs: mnist.test.images})\n",
    "        \n",
    "    # training 和 testing 的正確率分開計算，才能知道有沒有overfitting   \n",
    "    print (\"test_acc: \" , sess.run([accuracy], feed_dict={xs: mnist.test.images, ys: mnist.test.labels}))"
   ]
  },
  {
   "cell_type": "markdown",
   "metadata": {
    "collapsed": true
   },
   "source": [
    "# 辨識結果"
   ]
  },
  {
   "cell_type": "code",
   "execution_count": 580,
   "metadata": {},
   "outputs": [
    {
     "data": {
      "image/png": "[encoded data removed]",
      "text/plain": [
       "<Figure size 864x1008 with 10 Axes>"
      ]
     },
     "metadata": {},
     "output_type": "display_data"
    }
   ],
   "source": [
    "import numpy as np\n",
    "\n",
    "def plot_image_labels_prediction(images, labels, prediction, idx, num=10):\n",
    "    fig = plt.gcf()\n",
    "    fig.set_size_inches(12,14)\n",
    "    for i in range(0,num):\n",
    "        ax = plt.subplot(5,5,1+i)\n",
    "        ax.imshow(np.reshape(images[idx],(28,28)), cmap='binary')\n",
    "        title = \"label=\" + str(np.argmax(labels[idx]))\n",
    "        title += \",prediction= \" + str(np.argmax(test_prediction[0][i]))  \n",
    "            \n",
    "        ax.set_title(title,fontsize=10)\n",
    "        ax.set_xticks([]);ax.set_yticks([])\n",
    "        idx+=1\n",
    "    plt.show()\n",
    "\n",
    "plot_image_labels_prediction (mnist.test.images,\n",
    "                            mnist.test.labels,\n",
    "                            test_prediction, 0)"
   ]
  }
 ],
 "metadata": {
  "kernelspec": {
   "display_name": "Python 3",
   "language": "python",
   "name": "python3"
  },
  "language_info": {
   "codemirror_mode": {
    "name": "ipython",
    "version": 3
   },
   "file_extension": ".py",
   "mimetype": "text/x-python",
   "name": "python",
   "nbconvert_exporter": "python",
   "pygments_lexer": "ipython3",
   "version": "3.6.2"
  }
 },
 "nbformat": 4,
 "nbformat_minor": 2
}
