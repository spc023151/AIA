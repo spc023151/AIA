{
 "cells": [
  {
   "cell_type": "markdown",
   "metadata": {},
   "source": [
    "# 匯入工具"
   ]
  },
  {
   "cell_type": "code",
   "execution_count": 22,
   "metadata": {
    "collapsed": true
   },
   "outputs": [],
   "source": [
    "import numpy as np\n",
    "import pandas as pd\n",
    "import matplotlib.pyplot as plt\n",
    "from sklearn.model_selection import train_test_split "
   ]
  },
  {
   "cell_type": "markdown",
   "metadata": {},
   "source": [
    "# 匯入資料"
   ]
  },
  {
   "cell_type": "code",
   "execution_count": 23,
   "metadata": {},
   "outputs": [
    {
     "data": {
      "text/html": [
       "<div>\n",
       "<style>\n",
       "    .dataframe thead tr:only-child th {\n",
       "        text-align: right;\n",
       "    }\n",
       "\n",
       "    .dataframe thead th {\n",
       "        text-align: left;\n",
       "    }\n",
       "\n",
       "    .dataframe tbody tr th {\n",
       "        vertical-align: top;\n",
       "    }\n",
       "</style>\n",
       "<table border=\"1\" class=\"dataframe\">\n",
       "  <thead>\n",
       "    <tr style=\"text-align: right;\">\n",
       "      <th></th>\n",
       "      <th>id</th>\n",
       "      <th>花萼長度</th>\n",
       "      <th>花萼寬度</th>\n",
       "      <th>花瓣長度</th>\n",
       "      <th>花瓣寬度</th>\n",
       "      <th>屬種</th>\n",
       "      <th>type</th>\n",
       "    </tr>\n",
       "  </thead>\n",
       "  <tbody>\n",
       "    <tr>\n",
       "      <th>0</th>\n",
       "      <td>1</td>\n",
       "      <td>5.4</td>\n",
       "      <td>3.7</td>\n",
       "      <td>1.5</td>\n",
       "      <td>0.2</td>\n",
       "      <td>Iris-setosa</td>\n",
       "      <td>1</td>\n",
       "    </tr>\n",
       "    <tr>\n",
       "      <th>1</th>\n",
       "      <td>2</td>\n",
       "      <td>4.8</td>\n",
       "      <td>3.4</td>\n",
       "      <td>1.6</td>\n",
       "      <td>0.2</td>\n",
       "      <td>Iris-setosa</td>\n",
       "      <td>1</td>\n",
       "    </tr>\n",
       "    <tr>\n",
       "      <th>2</th>\n",
       "      <td>3</td>\n",
       "      <td>4.8</td>\n",
       "      <td>3.0</td>\n",
       "      <td>1.4</td>\n",
       "      <td>0.1</td>\n",
       "      <td>Iris-setosa</td>\n",
       "      <td>1</td>\n",
       "    </tr>\n",
       "    <tr>\n",
       "      <th>3</th>\n",
       "      <td>4</td>\n",
       "      <td>4.3</td>\n",
       "      <td>3.0</td>\n",
       "      <td>1.1</td>\n",
       "      <td>0.1</td>\n",
       "      <td>Iris-setosa</td>\n",
       "      <td>1</td>\n",
       "    </tr>\n",
       "    <tr>\n",
       "      <th>4</th>\n",
       "      <td>5</td>\n",
       "      <td>5.8</td>\n",
       "      <td>4.0</td>\n",
       "      <td>1.2</td>\n",
       "      <td>0.2</td>\n",
       "      <td>Iris-setosa</td>\n",
       "      <td>1</td>\n",
       "    </tr>\n",
       "  </tbody>\n",
       "</table>\n",
       "</div>"
      ],
      "text/plain": [
       "   id  花萼長度  花萼寬度  花瓣長度  花瓣寬度           屬種  type\n",
       "0   1   5.4   3.7   1.5   0.2  Iris-setosa     1\n",
       "1   2   4.8   3.4   1.6   0.2  Iris-setosa     1\n",
       "2   3   4.8   3.0   1.4   0.1  Iris-setosa     1\n",
       "3   4   4.3   3.0   1.1   0.1  Iris-setosa     1\n",
       "4   5   5.8   4.0   1.2   0.2  Iris-setosa     1"
      ]
     },
     "execution_count": 23,
     "metadata": {},
     "output_type": "execute_result"
    }
   ],
   "source": [
    "# 使用pandas直接讀入csv檔\n",
    "\n",
    "data = pd.read_csv(\"train.csv\")\n",
    "valid = pd.read_csv(\"test.csv\")\n",
    "y_label = data[\"屬種\"]\n",
    "data.head()"
   ]
  },
  {
   "cell_type": "markdown",
   "metadata": {},
   "source": [
    "# 資料預處理"
   ]
  },
  {
   "cell_type": "markdown",
   "metadata": {},
   "source": [
    "One-hot encoding"
   ]
  },
  {
   "cell_type": "code",
   "execution_count": 24,
   "metadata": {},
   "outputs": [
    {
     "data": {
      "text/html": [
       "<div>\n",
       "<style>\n",
       "    .dataframe thead tr:only-child th {\n",
       "        text-align: right;\n",
       "    }\n",
       "\n",
       "    .dataframe thead th {\n",
       "        text-align: left;\n",
       "    }\n",
       "\n",
       "    .dataframe tbody tr th {\n",
       "        vertical-align: top;\n",
       "    }\n",
       "</style>\n",
       "<table border=\"1\" class=\"dataframe\">\n",
       "  <thead>\n",
       "    <tr style=\"text-align: right;\">\n",
       "      <th></th>\n",
       "      <th>Iris-new_type</th>\n",
       "      <th>Iris-setosa</th>\n",
       "      <th>Iris-versicolor</th>\n",
       "      <th>Iris-virginica</th>\n",
       "    </tr>\n",
       "  </thead>\n",
       "  <tbody>\n",
       "    <tr>\n",
       "      <th>0</th>\n",
       "      <td>0</td>\n",
       "      <td>1</td>\n",
       "      <td>0</td>\n",
       "      <td>0</td>\n",
       "    </tr>\n",
       "    <tr>\n",
       "      <th>1</th>\n",
       "      <td>0</td>\n",
       "      <td>1</td>\n",
       "      <td>0</td>\n",
       "      <td>0</td>\n",
       "    </tr>\n",
       "    <tr>\n",
       "      <th>2</th>\n",
       "      <td>0</td>\n",
       "      <td>1</td>\n",
       "      <td>0</td>\n",
       "      <td>0</td>\n",
       "    </tr>\n",
       "    <tr>\n",
       "      <th>3</th>\n",
       "      <td>0</td>\n",
       "      <td>1</td>\n",
       "      <td>0</td>\n",
       "      <td>0</td>\n",
       "    </tr>\n",
       "    <tr>\n",
       "      <th>4</th>\n",
       "      <td>0</td>\n",
       "      <td>1</td>\n",
       "      <td>0</td>\n",
       "      <td>0</td>\n",
       "    </tr>\n",
       "  </tbody>\n",
       "</table>\n",
       "</div>"
      ],
      "text/plain": [
       "   Iris-new_type  Iris-setosa  Iris-versicolor  Iris-virginica\n",
       "0              0            1                0               0\n",
       "1              0            1                0               0\n",
       "2              0            1                0               0\n",
       "3              0            1                0               0\n",
       "4              0            1                0               0"
      ]
     },
     "execution_count": 24,
     "metadata": {},
     "output_type": "execute_result"
    }
   ],
   "source": [
    "# pandas的method，將label直接轉為one-hot encoding的表示方式\n",
    "\n",
    "y = pd.get_dummies(data['屬種'])\n",
    "y.head()"
   ]
  },
  {
   "cell_type": "markdown",
   "metadata": {},
   "source": [
    "刪除不要的欄位"
   ]
  },
  {
   "cell_type": "code",
   "execution_count": 25,
   "metadata": {},
   "outputs": [
    {
     "data": {
      "text/html": [
       "<div>\n",
       "<style>\n",
       "    .dataframe thead tr:only-child th {\n",
       "        text-align: right;\n",
       "    }\n",
       "\n",
       "    .dataframe thead th {\n",
       "        text-align: left;\n",
       "    }\n",
       "\n",
       "    .dataframe tbody tr th {\n",
       "        vertical-align: top;\n",
       "    }\n",
       "</style>\n",
       "<table border=\"1\" class=\"dataframe\">\n",
       "  <thead>\n",
       "    <tr style=\"text-align: right;\">\n",
       "      <th></th>\n",
       "      <th>花萼長度</th>\n",
       "      <th>花萼寬度</th>\n",
       "      <th>花瓣長度</th>\n",
       "      <th>花瓣寬度</th>\n",
       "    </tr>\n",
       "  </thead>\n",
       "  <tbody>\n",
       "    <tr>\n",
       "      <th>0</th>\n",
       "      <td>5.4</td>\n",
       "      <td>3.7</td>\n",
       "      <td>1.5</td>\n",
       "      <td>0.2</td>\n",
       "    </tr>\n",
       "    <tr>\n",
       "      <th>1</th>\n",
       "      <td>4.8</td>\n",
       "      <td>3.4</td>\n",
       "      <td>1.6</td>\n",
       "      <td>0.2</td>\n",
       "    </tr>\n",
       "    <tr>\n",
       "      <th>2</th>\n",
       "      <td>4.8</td>\n",
       "      <td>3.0</td>\n",
       "      <td>1.4</td>\n",
       "      <td>0.1</td>\n",
       "    </tr>\n",
       "    <tr>\n",
       "      <th>3</th>\n",
       "      <td>4.3</td>\n",
       "      <td>3.0</td>\n",
       "      <td>1.1</td>\n",
       "      <td>0.1</td>\n",
       "    </tr>\n",
       "    <tr>\n",
       "      <th>4</th>\n",
       "      <td>5.8</td>\n",
       "      <td>4.0</td>\n",
       "      <td>1.2</td>\n",
       "      <td>0.2</td>\n",
       "    </tr>\n",
       "  </tbody>\n",
       "</table>\n",
       "</div>"
      ],
      "text/plain": [
       "   花萼長度  花萼寬度  花瓣長度  花瓣寬度\n",
       "0   5.4   3.7   1.5   0.2\n",
       "1   4.8   3.4   1.6   0.2\n",
       "2   4.8   3.0   1.4   0.1\n",
       "3   4.3   3.0   1.1   0.1\n",
       "4   5.8   4.0   1.2   0.2"
      ]
     },
     "execution_count": 25,
     "metadata": {},
     "output_type": "execute_result"
    }
   ],
   "source": [
    "# 刪除經由判斷後不會影響結果或是沒有關係的值\n",
    "\n",
    "del data[\"id\"]\n",
    "del data[\"屬種\"]\n",
    "del data[\"type\"]\n",
    "X = data\n",
    "X.head()"
   ]
  },
  {
   "cell_type": "markdown",
   "metadata": {},
   "source": [
    "檢查資料量平衡"
   ]
  },
  {
   "cell_type": "code",
   "execution_count": 26,
   "metadata": {},
   "outputs": [
    {
     "data": {
      "text/plain": [
       "Iris-new_type       3\n",
       "Iris-setosa        40\n",
       "Iris-versicolor    40\n",
       "Iris-virginica     40\n",
       "dtype: int64"
      ]
     },
     "execution_count": 26,
     "metadata": {},
     "output_type": "execute_result"
    }
   ],
   "source": [
    "# 有些類別資料的資料量若遠低於其他類別將會影響到模型辨別此類資料的結果\n",
    "\n",
    "temp = y.sum()\n",
    "temp"
   ]
  },
  {
   "cell_type": "code",
   "execution_count": 27,
   "metadata": {},
   "outputs": [
    {
     "data": {
      "text/plain": [
       "Iris-new_type      36\n",
       "Iris-setosa        40\n",
       "Iris-versicolor    40\n",
       "Iris-virginica     40\n",
       "dtype: int64"
      ]
     },
     "execution_count": 27,
     "metadata": {},
     "output_type": "execute_result"
    }
   ],
   "source": [
    "# 這裡改善資料量太少的方式是將最少的那類資料用複製的方式增加\n",
    "\n",
    "import math\n",
    "\n",
    "add_data = data[y[min(y)]==1]\n",
    "add_label = y[y[min(y)]==1]\n",
    "add_label_w = y_label[y[min(y)]==1]\n",
    "\n",
    "for i in range(math.ceil(temp.mean()/temp[\"Iris-new_type\"])):\n",
    "    y = y.append(add_label)\n",
    "    \n",
    "for i in range(math.ceil(temp.mean()/temp[\"Iris-new_type\"])):\n",
    "    X = X.append(add_data)\n",
    "\n",
    "for i in range(math.ceil(temp.mean()/temp[\"Iris-new_type\"])):\n",
    "    y_label = y_label.append(add_label_w)\n",
    "    \n",
    "\n",
    "X = X.reset_index(drop = True)\n",
    "y = y.reset_index(drop = True)\n",
    "y_label = y_label.reset_index(drop = True)\n",
    "y.sum()"
   ]
  },
  {
   "cell_type": "markdown",
   "metadata": {},
   "source": [
    "檢查空值"
   ]
  },
  {
   "cell_type": "code",
   "execution_count": 28,
   "metadata": {},
   "outputs": [
    {
     "data": {
      "text/plain": [
       "花萼長度    12\n",
       "花萼寬度    12\n",
       "花瓣長度     0\n",
       "花瓣寬度     0\n",
       "dtype: int64"
      ]
     },
     "execution_count": 28,
     "metadata": {},
     "output_type": "execute_result"
    }
   ],
   "source": [
    "# 在蒐集時常常會因為硬體延遲或當機造成某些空值\n",
    "# 而空值無法丟入模型訓練，所以需要捨棄或填補\n",
    "\n",
    "X.isnull().sum()"
   ]
  },
  {
   "cell_type": "code",
   "execution_count": 29,
   "metadata": {
    "collapsed": true
   },
   "outputs": [],
   "source": [
    "# 因為總資料量太少無法再刪\n",
    "# 這裡將空值以平均的數值填入\n",
    "\n",
    "X[\"花萼長度\"] = X[\"花萼長度\"].fillna(X[y[min(y)]==1][\"花萼長度\"].mean())\n",
    "X[\"花萼寬度\"] = X[\"花萼寬度\"].fillna(X[y[min(y)]==1][\"花萼寬度\"].mean())"
   ]
  },
  {
   "cell_type": "markdown",
   "metadata": {},
   "source": [
    "檢查異常值"
   ]
  },
  {
   "cell_type": "code",
   "execution_count": 30,
   "metadata": {},
   "outputs": [
    {
     "data": {
      "text/plain": [
       "<matplotlib.axes._subplots.AxesSubplot at 0x283b5aedcf8>"
      ]
     },
     "execution_count": 30,
     "metadata": {},
     "output_type": "execute_result"
    }
   ],
   "source": [
    "# 極端的異常值會影響整個模型的結果，造成準確率下降\n",
    "\n",
    "import pandas as pd\n",
    "df = pd.DataFrame(X)\n",
    "df.plot(kind='kde',title='PDF')"
   ]
  },
  {
   "cell_type": "code",
   "execution_count": 31,
   "metadata": {},
   "outputs": [
    {
     "name": "stdout",
     "output_type": "stream",
     "text": [
      "超過最大值的異常值 花萼長度    0.0\n",
      "花萼寬度    4.4\n",
      "花瓣長度    0.0\n",
      "花瓣寬度    0.0\n",
      "dtype: float64\n",
      "超過最小值的異常值 花萼長度    0.0\n",
      "花萼寬度    0.0\n",
      "花瓣長度    0.0\n",
      "花瓣寬度    0.0\n",
      "dtype: float64\n"
     ]
    }
   ],
   "source": [
    "print ('超過最大值的異常值', X[X > (X.mean() + 3 * X.std())].sum())\n",
    "print ('超過最小值的異常值', X[X < (X.mean() - 3 * X.std())].sum())"
   ]
  },
  {
   "cell_type": "code",
   "execution_count": 32,
   "metadata": {
    "collapsed": true
   },
   "outputs": [],
   "source": [
    "X[(X > (X.mean() + 3 * X.std()))>0] = X[\"花萼寬度\"].mean()"
   ]
  },
  {
   "cell_type": "code",
   "execution_count": 33,
   "metadata": {
    "collapsed": true
   },
   "outputs": [],
   "source": [
    "def color_change(y):\n",
    "    c = []\n",
    "    for i in range(len(y)-1):\n",
    "        if y[\"Iris-new_type\"][i] == 1:\n",
    "            c.insert(i, 'r')\n",
    "        elif y[\"Iris-setosa\"][i] == 1:\n",
    "            c.insert(i, 'g')\n",
    "        elif(y[\"Iris-versicolor\"][i] == 1):\n",
    "            c.insert(i, 'b')\n",
    "        elif(y[\"Iris-virginica\"][i] == 1):\n",
    "            c.insert(i, 'y')\n",
    "  \n",
    "    return c\n",
    "\n",
    "c = color_change(y)"
   ]
  },
  {
   "cell_type": "markdown",
   "metadata": {},
   "source": [
    "# 資料視覺化"
   ]
  },
  {
   "cell_type": "code",
   "execution_count": 34,
   "metadata": {},
   "outputs": [
    {
     "data": {
      "image/png": "[encoded data removed]",
      "text/plain": [
       "<matplotlib.figure.Figure at 0x283b328d240>"
      ]
     },
     "metadata": {},
     "output_type": "display_data"
    },
    {
     "data": {
      "image/png": "[encoded data removed]",
      "text/plain": [
       "<matplotlib.figure.Figure at 0x283b5b217b8>"
      ]
     },
     "metadata": {},
     "output_type": "display_data"
    }
   ],
   "source": [
    "# 以4個feature輪流作為X Y值，觀察資料在二維空間上的分布\n",
    "# X方向的feature分別是 花萼長度 花萼寬度 花瓣長度 花瓣寬度 Y方向同上\n",
    "# 所以在對角線上會成一直線\n",
    "# 把資料視覺化後很容易可以看到其分佈\n",
    "# 人所存在的維度只有三維，我們能觀察到的也僅止於三維\n",
    "# 深度學習幫助我們在更高維中找到資料背後真正的意義\n",
    "\n",
    "plt.figure()\n",
    "X = np.vstack((X[\"花萼長度\"],X[\"花萼寬度\"],X[\"花瓣長度\"],X[\"花瓣寬度\"]))\n",
    "X = X.transpose()\n",
    "k=1\n",
    "for i in range(4):\n",
    "    for j in range(4):\n",
    "        plt.subplot(4, 4, k)\n",
    "        plt.scatter(X[:,i],X[:,j],c=c)\n",
    "        k=k+1\n",
    "        \n",
    "plt.show()"
   ]
  },
  {
   "cell_type": "markdown",
   "metadata": {},
   "source": [
    "# 80/20"
   ]
  },
  {
   "cell_type": "markdown",
   "metadata": {},
   "source": [
    "生成訓練資料"
   ]
  },
  {
   "cell_type": "code",
   "execution_count": 35,
   "metadata": {
    "collapsed": true
   },
   "outputs": [],
   "source": [
    "# 80%的資料拿來訓練其餘20%做為測試資料\n",
    "\n",
    "X_train, X_test, y_train, y_test = train_test_split(X, y_label, test_size=0.2, random_state=40)"
   ]
  },
  {
   "cell_type": "markdown",
   "metadata": {},
   "source": [
    "# 正規化"
   ]
  },
  {
   "cell_type": "code",
   "execution_count": 36,
   "metadata": {},
   "outputs": [],
   "source": [
    "# 每個feature的分布都不同，此會在訓練時導致難以收斂\n",
    "# 經由正規化可以讓所有feature在同一個分布\n",
    "\n",
    "from sklearn.preprocessing import StandardScaler\n",
    "scaler = StandardScaler()\n",
    "scaler.fit(X)\n",
    "X_train_std = scaler.transform(X_train)\n",
    "X_test_std = scaler.transform(X_test)"
   ]
  },
  {
   "cell_type": "markdown",
   "metadata": {},
   "source": [
    "# 建模"
   ]
  },
  {
   "cell_type": "markdown",
   "metadata": {},
   "source": [
    "# KNN"
   ]
  },
  {
   "cell_type": "code",
   "execution_count": 37,
   "metadata": {},
   "outputs": [
    {
     "name": "stdout",
     "output_type": "stream",
     "text": [
      "                 precision    recall  f1-score   support\n",
      "\n",
      "  Iris-new_type       0.83      1.00      0.91        10\n",
      "    Iris-setosa       1.00      1.00      1.00         8\n",
      "Iris-versicolor       0.83      1.00      0.91         5\n",
      " Iris-virginica       1.00      0.67      0.80         9\n",
      "\n",
      "    avg / total       0.92      0.91      0.90        32\n",
      "\n"
     ]
    }
   ],
   "source": [
    "from sklearn.neighbors import KNeighborsClassifier\n",
    "from sklearn import metrics\n",
    "\n",
    "knn = KNeighborsClassifier(n_neighbors=3, weights='uniform')\n",
    "knn.fit(X_train_std, y_train)\n",
    "\n",
    "print(metrics.classification_report(y_test, knn.predict(X_test_std)))"
   ]
  },
  {
   "cell_type": "markdown",
   "metadata": {},
   "source": [
    "# RandomForest"
   ]
  },
  {
   "cell_type": "code",
   "execution_count": 38,
   "metadata": {},
   "outputs": [
    {
     "name": "stdout",
     "output_type": "stream",
     "text": [
      "oob_score(accuary): 0.9435483870967742\n",
      "                 precision    recall  f1-score   support\n",
      "\n",
      "  Iris-new_type       0.83      1.00      0.91        10\n",
      "    Iris-setosa       1.00      1.00      1.00         8\n",
      "Iris-versicolor       0.83      1.00      0.91         5\n",
      " Iris-virginica       1.00      0.67      0.80         9\n",
      "\n",
      "    avg / total       0.92      0.91      0.90        32\n",
      "\n"
     ]
    }
   ],
   "source": [
    "from sklearn.ensemble import RandomForestClassifier\n",
    "\n",
    "rfc = RandomForestClassifier(n_estimators=500, criterion='gini', max_features='auto', oob_score=True)\n",
    "rfc.fit(X_train, y_train) #不標準化\n",
    "\n",
    "print(\"oob_score(accuary):\",rfc.oob_score_)\n",
    "print(metrics.classification_report(y_test, rfc.predict(X_test)))"
   ]
  },
  {
   "cell_type": "markdown",
   "metadata": {},
   "source": [
    "# SVM"
   ]
  },
  {
   "cell_type": "code",
   "execution_count": 39,
   "metadata": {},
   "outputs": [
    {
     "name": "stdout",
     "output_type": "stream",
     "text": [
      "                 precision    recall  f1-score   support\n",
      "\n",
      "  Iris-new_type       0.71      1.00      0.83        10\n",
      "    Iris-setosa       1.00      1.00      1.00         8\n",
      "Iris-versicolor       0.83      1.00      0.91         5\n",
      " Iris-virginica       1.00      0.44      0.62         9\n",
      "\n",
      "    avg / total       0.88      0.84      0.83        32\n",
      "\n"
     ]
    }
   ],
   "source": [
    "from sklearn.svm import SVC\n",
    "\n",
    "#y_train = np.vstack((y_train[\"Iris-new_type\"],y_train[\"Iris-setosa\"],y_train[\"Iris-versicolor\"],y_train[\"Iris-virginica\"]))\n",
    "#y_train = y_train.transpose()\n",
    "#y_test = np.vstack((y_test[\"Iris-new_type\"],y_test[\"Iris-setosa\"],y_test[\"Iris-versicolor\"],y_test[\"Iris-virginica\"]))\n",
    "#y_test = y_test.transpose()\n",
    "\n",
    "def label_change(y):\n",
    "    c = []\n",
    "    for i in range(len(y)):\n",
    "        if y[i][0] == 1:\n",
    "            c.insert(i, 'Iris-new_type')\n",
    "        elif y[i][1] == 1:\n",
    "            c.insert(i, 'Iris-setosa')\n",
    "        elif(y[i][2] == 1):\n",
    "            c.insert(i, 'Iris-versicolor')\n",
    "        elif(y[i][3] == 1):\n",
    "            c.insert(i, 'Iris-virginica')\n",
    "  \n",
    "    return c\n",
    "\n",
    "#c = label_change(y_train)\n",
    "#y_test = label_change(y_test)\n",
    "\n",
    "svc = SVC(C=1.0, kernel=\"rbf\", probability=True)\n",
    "svc.fit(X_train_std, y_train)\n",
    "\n",
    "print(metrics.classification_report(y_test, svc.predict(X_test_std)))"
   ]
  },
  {
   "cell_type": "markdown",
   "metadata": {},
   "source": [
    "# 選擇模型"
   ]
  },
  {
   "cell_type": "code",
   "execution_count": 40,
   "metadata": {},
   "outputs": [
    {
     "name": "stdout",
     "output_type": "stream",
     "text": [
      "0.90625\n"
     ]
    }
   ],
   "source": [
    "print(rfc.score(X_test, y_test))"
   ]
  },
  {
   "cell_type": "code",
   "execution_count": 41,
   "metadata": {},
   "outputs": [
    {
     "name": "stdout",
     "output_type": "stream",
     "text": [
      "0.28125\n"
     ]
    }
   ],
   "source": [
    "print(knn.score(X_test, y_test))"
   ]
  },
  {
   "cell_type": "code",
   "execution_count": 42,
   "metadata": {},
   "outputs": [
    {
     "name": "stdout",
     "output_type": "stream",
     "text": [
      "0.0625\n"
     ]
    }
   ],
   "source": [
    "print(svc.score(X_test, y_test))"
   ]
  },
  {
   "cell_type": "markdown",
   "metadata": {},
   "source": [
    "# 模型測試"
   ]
  },
  {
   "cell_type": "code",
   "execution_count": null,
   "metadata": {
    "collapsed": true
   },
   "outputs": [],
   "source": [
    "# 在模型評估我們觀察到knn有最高的正確率\n",
    "# 所以最後選擇knn進行資料測試\n",
    "\n",
    "x_test = pd.read_csv(\"test.csv\")\n",
    "\n",
    "prediction = rfc.predict(x_test[[\"花萼長度\",\"花萼寬度\",\"花瓣長度\",\"花瓣寬度\"]])"
   ]
  },
  {
   "cell_type": "code",
   "execution_count": null,
   "metadata": {
    "collapsed": true
   },
   "outputs": [],
   "source": [
    "from sklearn.preprocessing import LabelEncoder\n",
    "\n",
    "encX = LabelEncoder()\n",
    "encX.fit([\"Iris-new_type\", \"Iris-setosa\", \"Iris-versicolor\", \"Iris-virginica\"])\n",
    "\n",
    "submission = encX.transform(prediction)\n",
    "result = {\"id\":x_test[\"id\"],\"type\":submission}\n",
    "result = pd.DataFrame(result)\n",
    "result.to_csv(\"prediction.csv\", index=False)"
   ]
  }
 ],
 "metadata": {
  "kernelspec": {
   "display_name": "Python [default]",
   "language": "python",
   "name": "python3"
  },
  "language_info": {
   "codemirror_mode": {
    "name": "ipython",
    "version": 3
   },
   "file_extension": ".py",
   "mimetype": "text/x-python",
   "name": "python",
   "nbconvert_exporter": "python",
   "pygments_lexer": "ipython3",
   "version": "3.6.3"
  }
 },
 "nbformat": 4,
 "nbformat_minor": 2
}
